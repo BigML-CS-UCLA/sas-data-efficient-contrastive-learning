{
 "cells": [
  {
   "cell_type": "code",
   "execution_count": 1,
   "metadata": {},
   "outputs": [
    {
     "ename": "TypeError",
     "evalue": "ImageLabelDataset.__init__() missing 1 required positional argument: 'transform'",
     "output_type": "error",
     "traceback": [
      "\u001b[0;31m---------------------------------------------------------------------------\u001b[0m",
      "\u001b[0;31mTypeError\u001b[0m                                 Traceback (most recent call last)",
      "\u001b[1;32m/home/sjoshi/final/sas-data-efficient-contrastive-learning/imagenet-subset.ipynb Cell 1\u001b[0m in \u001b[0;36m<cell line: 3>\u001b[0;34m()\u001b[0m\n\u001b[1;32m      <a href='vscode-notebook-cell://ssh-remote%2Bturing1.cs.ucla.edu/home/sjoshi/final/sas-data-efficient-contrastive-learning/imagenet-subset.ipynb#W0sdnNjb2RlLXJlbW90ZQ%3D%3D?line=0'>1</a>\u001b[0m \u001b[39mfrom\u001b[39;00m \u001b[39mdata_proc\u001b[39;00m\u001b[39m.\u001b[39;00m\u001b[39mdataset\u001b[39;00m \u001b[39mimport\u001b[39;00m ImageLabelDataset\n\u001b[0;32m----> <a href='vscode-notebook-cell://ssh-remote%2Bturing1.cs.ucla.edu/home/sjoshi/final/sas-data-efficient-contrastive-learning/imagenet-subset.ipynb#W0sdnNjb2RlLXJlbW90ZQ%3D%3D?line=2'>3</a>\u001b[0m imagenet_train \u001b[39m=\u001b[39m ImageLabelDataset(\u001b[39m\"\u001b[39;49m\u001b[39m/data/ILSVRC/train\u001b[39;49m\u001b[39m\"\u001b[39;49m)\n",
      "\u001b[0;31mTypeError\u001b[0m: ImageLabelDataset.__init__() missing 1 required positional argument: 'transform'"
     ]
    }
   ],
   "source": [
    "from data_proc.dataset import ImageLabelDataset\n",
    "\n",
    "imagenet_train = ImageLabelDataset(\"/data/ILSVRC/train\", lambda x: x) "
   ]
  }
 ],
 "metadata": {
  "kernelspec": {
   "display_name": "clip",
   "language": "python",
   "name": "python3"
  },
  "language_info": {
   "codemirror_mode": {
    "name": "ipython",
    "version": 3
   },
   "file_extension": ".py",
   "mimetype": "text/x-python",
   "name": "python",
   "nbconvert_exporter": "python",
   "pygments_lexer": "ipython3",
   "version": "3.10.4"
  },
  "orig_nbformat": 4
 },
 "nbformat": 4,
 "nbformat_minor": 2
}
