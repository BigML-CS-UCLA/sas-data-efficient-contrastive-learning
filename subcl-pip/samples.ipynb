{
 "cells": [
  {
   "cell_type": "code",
   "execution_count": 1,
   "metadata": {},
   "outputs": [],
   "source": [
    "import numpy as np\n",
    "import torch\n",
    "import torchvision\n",
    "from PIL import Image\n",
    "\n",
    "class CIFAR100Augmented(torchvision.datasets.CIFAR100):\n",
    "\n",
    "    def __init__(self, *args, n_augmentations=2, **kwargs):\n",
    "        super().__init__(*args, **kwargs)\n",
    "        self.n_augmentations = n_augmentations\n",
    "        assert self.transforms is not None\n",
    "\n",
    "    def __getitem__(self, index):\n",
    "        \"\"\"\n",
    "        Args:\n",
    "            index (int): Index\n",
    "\n",
    "        Returns:\n",
    "            tuple: (image, target) where target is index of the target class.\n",
    "        \"\"\"\n",
    "        img, target = self.data[index], self.targets[index]\n",
    "\n",
    "        # doing this so that it is consistent with all other datasets\n",
    "        # to return a PIL Image\n",
    "        pil_img = Image.fromarray(img)\n",
    "\n",
    "        imgs = [self.transform(pil_img) for _ in range(self.n_augmentations)]\n",
    "\n",
    "        return imgs"
   ]
  },
  {
   "cell_type": "code",
   "execution_count": 2,
   "metadata": {},
   "outputs": [],
   "source": [
    "from subcl.approx_latent_classes import clip_approx"
   ]
  },
  {
   "cell_type": "code",
   "execution_count": 3,
   "metadata": {},
   "outputs": [
    {
     "name": "stderr",
     "output_type": "stream",
     "text": [
      "Encoding images using CLIP: 100%|██████████| 1563/1563 [00:38<00:00, 40.54it/s]\n"
     ]
    },
    {
     "name": "stdout",
     "output_type": "stream",
     "text": [
      "\n",
      "L2 Regularization weight: 0.001\n"
     ]
    },
    {
     "name": "stderr",
     "output_type": "stream",
     "text": [
      "Training linear classifier using fraction of labels: 100%|██████████| 500/500 [00:05<00:00, 96.01it/s] \n"
     ]
    }
   ],
   "source": [
    "import random \n",
    "from subcl.approx_latent_classes import clip_approx\n",
    "\n",
    "cifar100 = torchvision.datasets.CIFAR100(\"/data/cifar100\", train=True)\n",
    "rand_idx = random.sample(range(50000), 500)\n",
    "y = np.array([datum[1] for datum in cifar100])\n",
    "device = torch.device(\"cuda:7\")\n",
    "\n",
    "partition = clip_approx(cifar100, rand_idx, y[rand_idx], 100, device, verbose=True)"
   ]
  },
  {
   "cell_type": "code",
   "execution_count": 4,
   "metadata": {},
   "outputs": [
    {
     "ename": "TypeError",
     "evalue": "SubCLSubsetDataset.__init__() missing 2 required positional arguments: 'proxy_model' and 'approx_latent_class_partition'",
     "output_type": "error",
     "traceback": [
      "\u001b[0;31m---------------------------------------------------------------------------\u001b[0m",
      "\u001b[0;31mTypeError\u001b[0m                                 Traceback (most recent call last)",
      "Cell \u001b[0;32mIn[4], line 4\u001b[0m\n\u001b[1;32m      1\u001b[0m \u001b[39mfrom\u001b[39;00m \u001b[39msubcl\u001b[39;00m\u001b[39m.\u001b[39;00m\u001b[39msubset_dataset\u001b[39;00m \u001b[39mimport\u001b[39;00m RandomSubsetDataset, SubCLSubsetDataset, CustomSubsetDataset\n\u001b[0;32m----> 4\u001b[0m dset \u001b[39m=\u001b[39m SubCLSubsetDataset(\n\u001b[1;32m      5\u001b[0m     cifar100,\n\u001b[1;32m      6\u001b[0m     \u001b[39m0.1\u001b[39;49m,\n\u001b[1;32m      7\u001b[0m     \u001b[39m100\u001b[39;49m,\n\u001b[1;32m      8\u001b[0m     device\u001b[39m=\u001b[39;49m\u001b[39m\"\u001b[39;49m\u001b[39mcuda:7\u001b[39;49m\u001b[39m\"\u001b[39;49m,\n\u001b[1;32m      9\u001b[0m     \n\u001b[1;32m     10\u001b[0m )\n",
      "\u001b[0;31mTypeError\u001b[0m: SubCLSubsetDataset.__init__() missing 2 required positional arguments: 'proxy_model' and 'approx_latent_class_partition'"
     ]
    }
   ],
   "source": [
    "from subcl.subset_dataset import RandomSubsetDataset, SubCLSubsetDataset, CustomSubsetDataset\n",
    "\n",
    "\n",
    "dset = SubCLSubsetDataset(\n",
    "    cifar100,\n",
    "    0.1,\n",
    "    100,\n",
    "    device=\"cuda:7\",\n",
    "    \n",
    ")"
   ]
  },
  {
   "cell_type": "code",
   "execution_count": 13,
   "metadata": {},
   "outputs": [
    {
     "name": "stderr",
     "output_type": "stream",
     "text": [
      "100%|██████████| 10/10 [00:00<00:00, 847.73it/s]"
     ]
    },
    {
     "name": "stdout",
     "output_type": "stream",
     "text": [
      "29\n",
      "0\n",
      "11\n",
      "1\n",
      "86\n",
      "90\n",
      "28\n",
      "23\n",
      "31\n",
      "39\n"
     ]
    },
    {
     "name": "stderr",
     "output_type": "stream",
     "text": [
      "\n"
     ]
    }
   ],
   "source": [
    "from tqdm import tqdm \n",
    "\n",
    "for x in tqdm(dset):\n",
    "    print(x[1])\n",
    "    "
   ]
  },
  {
   "cell_type": "code",
   "execution_count": 14,
   "metadata": {},
   "outputs": [
    {
     "data": {
      "text/plain": [
       "tensor([[[ 1.9303,  1.9303,  1.9303,  ...,  0.8938,  0.8792,  0.8647],\n",
       "         [ 1.9303,  1.9303,  1.9303,  ...,  0.8792,  0.8647,  0.8501],\n",
       "         [ 1.9303,  1.9303,  1.9303,  ...,  0.8647,  0.8501,  0.8355],\n",
       "         ...,\n",
       "         [-0.5514, -0.5514, -0.5514,  ...,  0.2515,  0.2661,  0.2807],\n",
       "         [-0.5660, -0.5660, -0.5660,  ...,  0.2515,  0.2661,  0.2807],\n",
       "         [-0.5806, -0.5806, -0.5806,  ...,  0.2515,  0.2661,  0.2807]],\n",
       "\n",
       "        [[ 2.0749,  2.0749,  2.0749,  ...,  1.2044,  1.1894,  1.1744],\n",
       "         [ 2.0749,  2.0749,  2.0749,  ...,  1.1894,  1.1744,  1.1594],\n",
       "         [ 2.0749,  2.0749,  2.0749,  ...,  1.1594,  1.1444,  1.1294],\n",
       "         ...,\n",
       "         [ 0.0488,  0.0488,  0.0488,  ...,  0.8893,  0.9193,  0.9343],\n",
       "         [ 0.0338,  0.0338,  0.0338,  ...,  0.8893,  0.9193,  0.9343],\n",
       "         [ 0.0188,  0.0188,  0.0188,  ...,  0.8893,  0.9193,  0.9343]],\n",
       "\n",
       "        [[ 2.1459,  2.1459,  2.1459,  ...,  0.9514,  0.9230,  0.9230],\n",
       "         [ 2.1459,  2.1459,  2.1459,  ...,  0.9372,  0.9088,  0.9088],\n",
       "         [ 2.1459,  2.1459,  2.1459,  ...,  0.9088,  0.8803,  0.8803],\n",
       "         ...,\n",
       "         [-0.9256, -0.9256, -0.9114,  ..., -0.3568, -0.3426, -0.3426],\n",
       "         [-0.9256, -0.9256, -0.9256,  ..., -0.3568, -0.3426, -0.3426],\n",
       "         [-0.9399, -0.9399, -0.9399,  ..., -0.3568, -0.3426, -0.3426]]])"
      ]
     },
     "execution_count": 14,
     "metadata": {},
     "output_type": "execute_result"
    }
   ],
   "source": [
    "cifar100[0][0]"
   ]
  },
  {
   "cell_type": "code",
   "execution_count": 17,
   "metadata": {},
   "outputs": [
    {
     "name": "stderr",
     "output_type": "stream",
     "text": [
      "100%|██████████| 100/100 [00:00<00:00, 10580.46it/s]"
     ]
    },
    {
     "name": "stdout",
     "output_type": "stream",
     "text": [
      "mean label homogeneity: 0.6616000000000001\n"
     ]
    },
    {
     "name": "stderr",
     "output_type": "stream",
     "text": [
      "\n"
     ]
    },
    {
     "data": {
      "text/plain": [
       "0.6616000000000001"
      ]
     },
     "execution_count": 17,
     "metadata": {},
     "output_type": "execute_result"
    }
   ],
   "source": [
    "partition = clip_approx(cifar100, rand_idx, y[rand_idx], 100, device, verbose=True)"
   ]
  },
  {
   "cell_type": "code",
   "execution_count": 7,
   "metadata": {},
   "outputs": [],
   "source": [
    "from tqdm import tqdm \n",
    "from collections import Counter \n",
    "\n",
    "def lh(partition):\n",
    "    label_homogeneity = []\n",
    "    for pseudo_label in tqdm(partition.keys()):\n",
    "        cluster_labels = [int(y[i]) for i in partition[pseudo_label]]\n",
    "        c = Counter(cluster_labels)\n",
    "        label_homogeneity.append(c.most_common()[0][1] / len(cluster_labels) * len(cluster_labels) / 50000)\n",
    "    \n",
    "    print(\"mean label homogeneity:\", np.sum(label_homogeneity))\n",
    "    return np.sum(label_homogeneity)"
   ]
  },
  {
   "cell_type": "code",
   "execution_count": 13,
   "metadata": {},
   "outputs": [],
   "source": [
    "import pickle\n",
    "\n",
    "with open(f\"/home/sjoshi/efficient-contrastive-learning/results/cifar100-clip-labels.pkl\", \"rb\") as f:\n",
    "    clip_labels = pickle.load(f)"
   ]
  },
  {
   "cell_type": "code",
   "execution_count": 14,
   "metadata": {},
   "outputs": [],
   "source": [
    "from subcl.approx_latent_classes import partition_from_preds\n",
    "\n",
    "clip_partition = partition_from_preds(clip_labels)"
   ]
  },
  {
   "cell_type": "code",
   "execution_count": 15,
   "metadata": {},
   "outputs": [
    {
     "data": {
      "text/plain": [
       "(array([ 5.,  8., 17., 28., 20., 14.,  2.,  2.,  0.,  3.]),\n",
       " array([  16. ,  142.6,  269.2,  395.8,  522.4,  649. ,  775.6,  902.2,\n",
       "        1028.8, 1155.4, 1282. ]),\n",
       " <BarContainer object of 10 artists>)"
      ]
     },
     "execution_count": 15,
     "metadata": {},
     "output_type": "execute_result"
    },
    {
     "data": {
      "image/png": "[encoded data removed]",
      "text/plain": [
       "<Figure size 640x480 with 1 Axes>"
      ]
     },
     "metadata": {},
     "output_type": "display_data"
    }
   ],
   "source": [
    "import matplotlib.pyplot as plt \n",
    "\n",
    "plt.hist([len(clip_partition[label]) for label in clip_partition.keys()])"
   ]
  }
 ],
 "metadata": {
  "kernelspec": {
   "display_name": "eff-cl-pip",
   "language": "python",
   "name": "python3"
  },
  "language_info": {
   "codemirror_mode": {
    "name": "ipython",
    "version": 3
   },
   "file_extension": ".py",
   "mimetype": "text/x-python",
   "name": "python",
   "nbconvert_exporter": "python",
   "pygments_lexer": "ipython3",
   "version": "3.11.3"
  },
  "orig_nbformat": 4
 },
 "nbformat": 4,
 "nbformat_minor": 2
}
